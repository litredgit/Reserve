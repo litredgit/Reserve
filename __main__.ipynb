{
 "cells": [
  {
   "cell_type": "code",
   "execution_count": 1,
   "metadata": {},
   "outputs": [],
   "source": [
    "import os, json, sqlite3\n",
    "import cwd\n",
    "\n",
    "with open('settings.json', 'w') as f:\n",
    "    db_path = {'db_path': os.path.join(cwd.cwdpath, 'database', 'reserve.db').replace('\\\\', '/')}\n",
    "    json.dump(db_path, f)\n",
    "    \n",
    "import module.database.db"
   ]
  },
  {
   "cell_type": "code",
   "execution_count": null,
   "metadata": {},
   "outputs": [],
   "source": []
  }
 ],
 "metadata": {
  "kernelspec": {
   "display_name": "api",
   "language": "python",
   "name": "python3"
  },
  "language_info": {
   "codemirror_mode": {
    "name": "ipython",
    "version": 3
   },
   "file_extension": ".py",
   "mimetype": "text/x-python",
   "name": "python",
   "nbconvert_exporter": "python",
   "pygments_lexer": "ipython3",
   "version": "3.11.5"
  }
 },
 "nbformat": 4,
 "nbformat_minor": 2
}
