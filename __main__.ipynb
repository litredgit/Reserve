{
 "cells": [
  {
   "cell_type": "code",
   "execution_count": 1,
   "metadata": {},
   "outputs": [],
   "source": [
    "import os, json, sqlite3\n",
    "import cwd\n",
    "cwd.set_db_path()\n",
    "import module.database.db"
   ]
  },
  {
   "cell_type": "code",
   "execution_count": null,
   "metadata": {},
   "outputs": [],
   "source": [
    "import module.api"
   ]
  },
  {
   "cell_type": "code",
   "execution_count": 2,
   "metadata": {},
   "outputs": [
    {
     "name": "stdout",
     "output_type": "stream",
     "text": [
      "connect db\n",
      "create db.table: users\n",
      "add column: name to name into table: users\n",
      "create db.table: orbi23\n",
      "add column: time to Dec31 into table: orbi23\n",
      "insert before9 to after21 into table: orbi23\n",
      "close db\n"
     ]
    }
   ],
   "source": [
    "with module.database.db.maintain() as test:\n",
    "    test.user_table()\n",
    "    test.instru_table('orbi23', 2023)"
   ]
  },
  {
   "cell_type": "code",
   "execution_count": 2,
   "metadata": {},
   "outputs": [],
   "source": [
    "request_info = {\n",
    "            'type': 'reserve', #reserve, check, create,\n",
    "            'user': 'crs', #reserve.db/'users'/'name'\n",
    "            'table': 'orbi23', #reserve.db/\n",
    "            't': {\n",
    "                'Jan01':[\n",
    "                    't9_10', \n",
    "                    't10_11'\n",
    "                ],\n",
    "                'Jan02':[\n",
    "                    't9_10', \n",
    "                    't10_11'\n",
    "                ]\n",
    "            }\n",
    "        }"
   ]
  },
  {
   "cell_type": "code",
   "execution_count": 3,
   "metadata": {},
   "outputs": [
    {
     "name": "stdout",
     "output_type": "stream",
     "text": [
      "connect db\n",
      "before9:None\n",
      "t9_10:crs\n",
      "t10_11:crs\n",
      "t11_12:None\n",
      "t12_13:None\n",
      "t13_14:None\n",
      "t14_15:None\n",
      "t15_16:None\n",
      "t16_17:None\n",
      "t17_18:None\n",
      "t18_19:None\n",
      "t19_20:None\n",
      "t20_21:None\n",
      "after21:None\n",
      "close db\n"
     ]
    }
   ],
   "source": [
    "with module.database.db.get_db() as test1:\n",
    "    output = test1.check(request_info)\n",
    "    for key in output:\n",
    "        print(f\"{key}:{output[key]}\")"
   ]
  }
 ],
 "metadata": {
  "kernelspec": {
   "display_name": "api",
   "language": "python",
   "name": "python3"
  },
  "language_info": {
   "codemirror_mode": {
    "name": "ipython",
    "version": 3
   },
   "file_extension": ".py",
   "mimetype": "text/x-python",
   "name": "python",
   "nbconvert_exporter": "python",
   "pygments_lexer": "ipython3",
   "version": "3.11.5"
  }
 },
 "nbformat": 4,
 "nbformat_minor": 2
}
