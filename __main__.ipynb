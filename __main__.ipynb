{
 "cells": [
  {
   "cell_type": "code",
   "execution_count": 1,
   "metadata": {},
   "outputs": [],
   "source": [
    "import os, json, sqlite3\n",
    "import cwd\n",
    "\n",
    "with open('settings.json', 'w') as f:\n",
    "    db_path = {'db_path': os.path.join(cwd.cwdpath, 'database', 'reserve.db').replace('\\\\', '/')}\n",
    "    json.dump(db_path, f)\n",
    "    \n",
    "import module.database.db"
   ]
  },
  {
   "cell_type": "code",
   "execution_count": null,
   "metadata": {},
   "outputs": [],
   "source": [
    "with module.database.db.maintain() as test:\n",
    "    test.user_table()\n",
    "    test.instru_table('orbi23', 2023)"
   ]
  },
  {
   "cell_type": "code",
   "execution_count": 2,
   "metadata": {},
   "outputs": [],
   "source": [
    "request_info = {\n",
    "            'user': 'crs',\n",
    "            'table': 'orbi23',\n",
    "            'date': 'Jan01',\n",
    "            'ct':[\n",
    "                't9_10', \n",
    "                't10_11'\n",
    "                ],\n",
    "            'rt':[\n",
    "                't9_10', \n",
    "                't10_11'\n",
    "                ]\n",
    "        }"
   ]
  },
  {
   "cell_type": "code",
   "execution_count": 3,
   "metadata": {},
   "outputs": [
    {
     "name": "stdout",
     "output_type": "stream",
     "text": [
      "connect db\n",
      "before9:None\n",
      "t9_10:crs\n",
      "t10_11:crs\n",
      "t11_12:None\n",
      "t12_13:None\n",
      "t13_14:None\n",
      "t14_15:None\n",
      "t15_16:None\n",
      "t16_17:None\n",
      "t17_18:None\n",
      "t18_19:None\n",
      "t19_20:None\n",
      "t20_21:None\n",
      "after21:None\n",
      "close db\n"
     ]
    }
   ],
   "source": [
    "with module.database.db.get_db() as test1:\n",
    "    output = test1.check_available(request_info)\n",
    "    for key in output:\n",
    "        print(f\"{key}:{output[key]}\")"
   ]
  }
 ],
 "metadata": {
  "kernelspec": {
   "display_name": "api",
   "language": "python",
   "name": "python3"
  },
  "language_info": {
   "codemirror_mode": {
    "name": "ipython",
    "version": 3
   },
   "file_extension": ".py",
   "mimetype": "text/x-python",
   "name": "python",
   "nbconvert_exporter": "python",
   "pygments_lexer": "ipython3",
   "version": "3.11.5"
  }
 },
 "nbformat": 4,
 "nbformat_minor": 2
}
