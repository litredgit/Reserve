{
 "cells": [
  {
   "cell_type": "code",
   "execution_count": 1,
   "metadata": {},
   "outputs": [],
   "source": [
    "#get connected to database\n",
    "import sqlite3\n",
    "from flask import Flask, jsonify"
   ]
  },
  {
   "cell_type": "code",
   "execution_count": 2,
   "metadata": {},
   "outputs": [],
   "source": [
    "app = Flask(__name__)\n",
    "app.config['DATABASE'] = 'D:/Works/db/test.db'"
   ]
  },
  {
   "cell_type": "code",
   "execution_count": null,
   "metadata": {},
   "outputs": [],
   "source": [
    "class test1(object):\n",
    "    def __init__(self, func, path):\n",
    "        self._func = func\n",
    "    def __call__(self):\n",
    "        print('class decorator runing')\n",
    "        self._func()\n",
    "        print('class decorator ending')"
   ]
  },
  {
   "cell_type": "code",
   "execution_count": 3,
   "metadata": {},
   "outputs": [],
   "source": [
    "class test1(object):\n",
    "    def __init__(self, func) -> None:\n",
    "        self.func = func\n",
    "    database = 'D:/Works/db/test.db'\n",
    "    \n",
    "    conn = sqlite3.connect(database)\n",
    "    cursor = conn.cursor()\n",
    "    print('connected to db')\n",
    "    \n",
    "    self.path(cursor)\n",
    "    \n",
    "    cursor.close()\n",
    "    conn.close()\n",
    "    print('unconnected from db')\n"
   ]
  },
  {
   "cell_type": "code",
   "execution_count": 9,
   "metadata": {},
   "outputs": [
    {
     "name": "stdout",
     "output_type": "stream",
     "text": [
      "connected to db\n",
      "test begin\n",
      "{'id'}\n",
      "{'name'}\n",
      "{'age'}\n",
      "{'address'}\n",
      "test done\n",
      "unconnected from db\n"
     ]
    }
   ],
   "source": [
    "@test1\n",
    "def test(cursor):\n",
    "    print(f\"test begin\")\n",
    "    cursor.execute('SELECT * FROM TEST')\n",
    "    rows = cursor.fetchall()\n",
    "\n",
    "    # 将查询结果转换为JSON格式\n",
    "    users = []\n",
    "    for row in rows:\n",
    "        user = {\n",
    "            'id': row[0],\n",
    "            'name': row[1],\n",
    "            'age': row[2],\n",
    "            'address': row[3]\n",
    "        }\n",
    "        users.append(user)\n",
    "    for i in users:\n",
    "        for key in i:\n",
    "            print({key})\n",
    "    print(f\"test done\")"
   ]
  },
  {
   "cell_type": "code",
   "execution_count": null,
   "metadata": {},
   "outputs": [],
   "source": [
    "class get_db(object):\n",
    "    database = 'D:/Works/db/test.db'\n",
    "    def __init__(self, func):\n",
    "        self._func = func\n",
    "    def __call__(self):\n",
    "        conn = sqlite3.connect(self.database)\n",
    "        cursor = conn.cursor()\n",
    "        print('connected to db')\n",
    "        \n",
    "        cursor.execute('SELECT * FROM TEST')\n",
    "        rows = cursor.fetchall()\n",
    "\n",
    "        # 将查询结果转换为JSON格式\n",
    "        users = []\n",
    "        for row in rows:\n",
    "            user = {\n",
    "                'id': row[0],\n",
    "                'name': row[1],\n",
    "                'age': row[2],\n",
    "                'address': row[3]\n",
    "            }\n",
    "            \n",
    "        self._func()\n",
    "        cursor.close()\n",
    "        conn.close()\n",
    "        print('unconnected from db')"
   ]
  },
  {
   "cell_type": "code",
   "execution_count": null,
   "metadata": {},
   "outputs": [],
   "source": [
    "@get_db\n",
    "def check_db():\n",
    "    print(f\"end\")\n",
    "    #a.execute('SELECT * FROM TEST;')\n",
    "    #result = a.fetchall()\n",
    "check_db()"
   ]
  },
  {
   "cell_type": "code",
   "execution_count": null,
   "metadata": {},
   "outputs": [],
   "source": [
    "@get_db\n",
    "def add_db():\n",
    "    for i in range(9,20):\n",
    "        cursor.execute('ALTER TABLE orbi ADD COLUMN str({i})-str({i} + 1) STR;')\n",
    "    cursor.execute('ALTER TABLE orbi ADD COLUMN before9 TEXT;')\n",
    "    cursor.execute('ALTER TABLE orbi ADD COLUMN after21 TEXT;')"
   ]
  },
  {
   "cell_type": "code",
   "execution_count": null,
   "metadata": {},
   "outputs": [],
   "source": [
    "get_db()"
   ]
  }
 ],
 "metadata": {
  "kernelspec": {
   "display_name": "api",
   "language": "python",
   "name": "python3"
  },
  "language_info": {
   "codemirror_mode": {
    "name": "ipython",
    "version": 3
   },
   "file_extension": ".py",
   "mimetype": "text/x-python",
   "name": "python",
   "nbconvert_exporter": "python",
   "pygments_lexer": "ipython3",
   "version": "3.11.5"
  }
 },
 "nbformat": 4,
 "nbformat_minor": 2
}
