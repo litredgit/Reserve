{
 "cells": [
  {
   "cell_type": "code",
   "execution_count": 2,
   "metadata": {},
   "outputs": [],
   "source": [
    "import sqlite3\n",
    "import db"
   ]
  },
  {
   "cell_type": "code",
   "execution_count": null,
   "metadata": {},
   "outputs": [],
   "source": [
    "def db_path()  -> str:\n",
    "    database_path = input(f\"select a path for database reserve.db\")\n",
    "    return database_path\n",
    "database_path = db_path()"
   ]
  },
  {
   "cell_type": "code",
   "execution_count": 4,
   "metadata": {},
   "outputs": [
    {
     "name": "stdout",
     "output_type": "stream",
     "text": [
      "connect db\n",
      "close db\n"
     ]
    }
   ],
   "source": [
    "with db.get_db() as create_db:\n",
    "    create_db.create_table('users')\n",
    "    "
   ]
  },
  {
   "cell_type": "code",
   "execution_count": null,
   "metadata": {},
   "outputs": [],
   "source": [
    "def generate_table(table_name:str):\n",
    "    conn = sqlite3.connect(database_path)\n",
    "    cursor = conn.cursor()\n",
    "    \n",
    "    statement1 = str(f'''CREATE TABLE IF NOT EXISTS {table_name}\n",
    "                  (id INTEGER PRIMARY KEY,\n",
    "                   date TEXT NOT NULL)''')\n",
    "    cursor.execute(statement1)\n",
    "    cursor.execute(f\"ALTER TABLE {table_name} ADD COLUMN before9 TEXT;\") \n",
    "    for i in range(9,21):\n",
    "        j = i + 1\n",
    "        column_name = str(f't{i}_{j}')\n",
    "        statement2 = str(f\"ALTER TABLE {table_name} ADD COLUMN {column_name} TEXT;\")\n",
    "        cursor.execute(statement2)\n",
    "    cursor.execute(f\"ALTER TABLE {table_name} ADD COLUMN after21 TEXT;\") \n",
    "    conn.commit()\n",
    "\n",
    "    cursor.close()\n",
    "    conn.close()"
   ]
  },
  {
   "cell_type": "code",
   "execution_count": null,
   "metadata": {},
   "outputs": [],
   "source": [
    "with db.get_db() as generate_table:\n",
    "    "
   ]
  },
  {
   "cell_type": "code",
   "execution_count": null,
   "metadata": {},
   "outputs": [],
   "source": [
    "generate_table('orbi')"
   ]
  }
 ],
 "metadata": {
  "kernelspec": {
   "display_name": "api",
   "language": "python",
   "name": "python3"
  },
  "language_info": {
   "codemirror_mode": {
    "name": "ipython",
    "version": 3
   },
   "file_extension": ".py",
   "mimetype": "text/x-python",
   "name": "python",
   "nbconvert_exporter": "python",
   "pygments_lexer": "ipython3",
   "version": "3.11.5"
  }
 },
 "nbformat": 4,
 "nbformat_minor": 2
}
