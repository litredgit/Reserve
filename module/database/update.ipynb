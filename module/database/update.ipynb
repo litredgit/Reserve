{
 "cells": [
  {
   "cell_type": "code",
   "execution_count": 1,
   "metadata": {},
   "outputs": [
    {
     "name": "stdout",
     "output_type": "stream",
     "text": [
      "connect db\n",
      "close db\n"
     ]
    }
   ],
   "source": [
    "import schedule, time\n",
    "import db, test"
   ]
  },
  {
   "cell_type": "code",
   "execution_count": 2,
   "metadata": {},
   "outputs": [
    {
     "ename": "AttributeError",
     "evalue": "'Job' object has no attribute 'month'",
     "output_type": "error",
     "traceback": [
      "\u001b[1;31m---------------------------------------------------------------------------\u001b[0m",
      "\u001b[1;31mAttributeError\u001b[0m                            Traceback (most recent call last)",
      "\u001b[1;32md:\\Works\\Git Demo\\Reserve\\module\\database\\update.ipynb Cell 2\u001b[0m line \u001b[0;36m1\n\u001b[1;32m----> <a href='vscode-notebook-cell:/d%3A/Works/Git%20Demo/Reserve/module/database/update.ipynb#W2sZmlsZQ%3D%3D?line=0'>1</a>\u001b[0m schedule\u001b[39m.\u001b[39;49mevery()\u001b[39m.\u001b[39;49mmonth\u001b[39m.\u001b[39mdo(test)\u001b[39m.\u001b[39mday\u001b[39m.\u001b[39mat(\u001b[39m\"\u001b[39m\u001b[39m12:00\u001b[39m\u001b[39m\"\u001b[39m)\n\u001b[0;32m      <a href='vscode-notebook-cell:/d%3A/Works/Git%20Demo/Reserve/module/database/update.ipynb#W2sZmlsZQ%3D%3D?line=2'>3</a>\u001b[0m \u001b[39mwhile\u001b[39;00m \u001b[39mTrue\u001b[39;00m:\n\u001b[0;32m      <a href='vscode-notebook-cell:/d%3A/Works/Git%20Demo/Reserve/module/database/update.ipynb#W2sZmlsZQ%3D%3D?line=3'>4</a>\u001b[0m     schedule\u001b[39m.\u001b[39mrun_pending()\n",
      "\u001b[1;31mAttributeError\u001b[0m: 'Job' object has no attribute 'month'"
     ]
    }
   ],
   "source": [
    "schedule.every().month.do(test).day.at(\"12:00\")\n",
    "\n",
    "while True:\n",
    "    schedule.run_pending()\n",
    "    time.sleep(1)"
   ]
  }
 ],
 "metadata": {
  "kernelspec": {
   "display_name": "api",
   "language": "python",
   "name": "python3"
  },
  "language_info": {
   "codemirror_mode": {
    "name": "ipython",
    "version": 3
   },
   "file_extension": ".py",
   "mimetype": "text/x-python",
   "name": "python",
   "nbconvert_exporter": "python",
   "pygments_lexer": "ipython3",
   "version": "3.11.5"
  }
 },
 "nbformat": 4,
 "nbformat_minor": 2
}
