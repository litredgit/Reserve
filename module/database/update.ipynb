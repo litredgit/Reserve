{
 "cells": [
  {
   "cell_type": "code",
   "execution_count": 10,
   "metadata": {},
   "outputs": [],
   "source": [
    "import schedule, time\n",
    "import db, test"
   ]
  },
  {
   "cell_type": "code",
   "execution_count": 12,
   "metadata": {},
   "outputs": [
    {
     "name": "stdout",
     "output_type": "stream",
     "text": [
      "connect db\n",
      "close db\n"
     ]
    },
    {
     "ename": "TypeError",
     "evalue": "'int' object is not subscriptable",
     "output_type": "error",
     "traceback": [
      "\u001b[1;31m---------------------------------------------------------------------------\u001b[0m",
      "\u001b[1;31mTypeError\u001b[0m                                 Traceback (most recent call last)",
      "\u001b[1;32md:\\Works\\Git Demo\\Reserve\\module\\database\\update.ipynb Cell 2\u001b[0m line \u001b[0;36m5\n\u001b[0;32m      <a href='vscode-notebook-cell:/d%3A/Works/Git%20Demo/Reserve/module/database/update.ipynb#W1sZmlsZQ%3D%3D?line=2'>3</a>\u001b[0m \u001b[39mfor\u001b[39;00m i \u001b[39min\u001b[39;00m \u001b[39mrange\u001b[39m(\u001b[39m231201\u001b[39m, \u001b[39m231231\u001b[39m):\n\u001b[0;32m      <a href='vscode-notebook-cell:/d%3A/Works/Git%20Demo/Reserve/module/database/update.ipynb#W1sZmlsZQ%3D%3D?line=3'>4</a>\u001b[0m     date\u001b[39m.\u001b[39mappend(i)\n\u001b[1;32m----> <a href='vscode-notebook-cell:/d%3A/Works/Git%20Demo/Reserve/module/database/update.ipynb#W1sZmlsZQ%3D%3D?line=4'>5</a>\u001b[0m add_month\u001b[39m.\u001b[39;49minsert(date, \u001b[39m'\u001b[39;49m\u001b[39morbi23\u001b[39;49m\u001b[39m'\u001b[39;49m, \u001b[39m'\u001b[39;49m\u001b[39mdate\u001b[39;49m\u001b[39m'\u001b[39;49m)\n",
      "File \u001b[1;32md:\\Works\\Git Demo\\Reserve\\module\\database\\db.py:64\u001b[0m, in \u001b[0;36mget_db.insert\u001b[1;34m(self, rownames, table_name, column)\u001b[0m\n\u001b[0;32m     62\u001b[0m \u001b[39mdef\u001b[39;00m \u001b[39minsert\u001b[39m(\u001b[39mself\u001b[39m, rownames: \u001b[39mlist\u001b[39m, table_name, column):\n\u001b[0;32m     63\u001b[0m     statement \u001b[39m=\u001b[39m \u001b[39mf\u001b[39m\u001b[39m\"\u001b[39m\u001b[39mINSERT INTO \u001b[39m\u001b[39m{\u001b[39;00mtable_name\u001b[39m}\u001b[39;00m\u001b[39m (\u001b[39m\u001b[39m{\u001b[39;00mcolumn\u001b[39m}\u001b[39;00m\u001b[39m) VALUES (?)\u001b[39m\u001b[39m\"\u001b[39m\n\u001b[1;32m---> 64\u001b[0m     \u001b[39mself\u001b[39m\u001b[39m.\u001b[39mexecm(statement, [(item[\u001b[39m'\u001b[39;49m\u001b[39mdate\u001b[39;49m\u001b[39m'\u001b[39;49m]) \u001b[39mfor\u001b[39;49;00m item \u001b[39min\u001b[39;49;00m rownames])\n\u001b[0;32m     65\u001b[0m     \u001b[39mprint\u001b[39m(\u001b[39mf\u001b[39m\u001b[39m\"\u001b[39m\u001b[39minsert \u001b[39m\u001b[39m{\u001b[39;00mrownames[\u001b[39m0\u001b[39m]\u001b[39m}\u001b[39;00m\u001b[39m to \u001b[39m\u001b[39m{\u001b[39;00mrownames[\u001b[39m-\u001b[39m\u001b[39m1\u001b[39m]\u001b[39m}\u001b[39;00m\u001b[39m\"\u001b[39m)\n",
      "File \u001b[1;32md:\\Works\\Git Demo\\Reserve\\module\\database\\db.py:64\u001b[0m, in \u001b[0;36m<listcomp>\u001b[1;34m(.0)\u001b[0m\n\u001b[0;32m     62\u001b[0m \u001b[39mdef\u001b[39;00m \u001b[39minsert\u001b[39m(\u001b[39mself\u001b[39m, rownames: \u001b[39mlist\u001b[39m, table_name, column):\n\u001b[0;32m     63\u001b[0m     statement \u001b[39m=\u001b[39m \u001b[39mf\u001b[39m\u001b[39m\"\u001b[39m\u001b[39mINSERT INTO \u001b[39m\u001b[39m{\u001b[39;00mtable_name\u001b[39m}\u001b[39;00m\u001b[39m (\u001b[39m\u001b[39m{\u001b[39;00mcolumn\u001b[39m}\u001b[39;00m\u001b[39m) VALUES (?)\u001b[39m\u001b[39m\"\u001b[39m\n\u001b[1;32m---> 64\u001b[0m     \u001b[39mself\u001b[39m\u001b[39m.\u001b[39mexecm(statement, [(item[\u001b[39m'\u001b[39;49m\u001b[39mdate\u001b[39;49m\u001b[39m'\u001b[39;49m]) \u001b[39mfor\u001b[39;00m item \u001b[39min\u001b[39;00m rownames])\n\u001b[0;32m     65\u001b[0m     \u001b[39mprint\u001b[39m(\u001b[39mf\u001b[39m\u001b[39m\"\u001b[39m\u001b[39minsert \u001b[39m\u001b[39m{\u001b[39;00mrownames[\u001b[39m0\u001b[39m]\u001b[39m}\u001b[39;00m\u001b[39m to \u001b[39m\u001b[39m{\u001b[39;00mrownames[\u001b[39m-\u001b[39m\u001b[39m1\u001b[39m]\u001b[39m}\u001b[39;00m\u001b[39m\"\u001b[39m)\n",
      "\u001b[1;31mTypeError\u001b[0m: 'int' object is not subscriptable"
     ]
    }
   ],
   "source": [
    "with db.get_db() as add_month:\n",
    "    date = []\n",
    "    for i in range(231201, 231231):\n",
    "        date.append(i)\n",
    "    add_month.insert(date, 'orbi23', 'date')"
   ]
  },
  {
   "cell_type": "code",
   "execution_count": null,
   "metadata": {},
   "outputs": [],
   "source": [
    "schedule.every().month.do(test).day.at(\"12:00\")\n",
    "\n",
    "while True:\n",
    "    schedule.run_pending()\n",
    "    time.sleep(1)"
   ]
  }
 ],
 "metadata": {
  "kernelspec": {
   "display_name": "api",
   "language": "python",
   "name": "python3"
  },
  "language_info": {
   "codemirror_mode": {
    "name": "ipython",
    "version": 3
   },
   "file_extension": ".py",
   "mimetype": "text/x-python",
   "name": "python",
   "nbconvert_exporter": "python",
   "pygments_lexer": "ipython3",
   "version": "3.11.5"
  }
 },
 "nbformat": 4,
 "nbformat_minor": 2
}
