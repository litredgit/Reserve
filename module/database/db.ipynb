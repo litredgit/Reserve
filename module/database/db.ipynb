{
 "cells": [
  {
   "cell_type": "code",
   "execution_count": 2,
   "metadata": {},
   "outputs": [],
   "source": [
    "import sqlite3\n",
    "from flask import Flask, request, jsonify\n",
    "import db_init"
   ]
  },
  {
   "cell_type": "code",
   "execution_count": 11,
   "metadata": {},
   "outputs": [
    {
     "ename": "IndentationError",
     "evalue": "expected an indented block after function definition on line 31 (4113860559.py, line 33)",
     "output_type": "error",
     "traceback": [
      "\u001b[1;36m  Cell \u001b[1;32mIn[11], line 33\u001b[1;36m\u001b[0m\n\u001b[1;33m    def insert(self, rownames: list, table_name, column):\u001b[0m\n\u001b[1;37m    ^\u001b[0m\n\u001b[1;31mIndentationError\u001b[0m\u001b[1;31m:\u001b[0m expected an indented block after function definition on line 31\n"
     ]
    }
   ],
   "source": [
    "class get_db:\n",
    "    def __init__(self) -> str:\n",
    "        pass\n",
    "\n",
    "    def __enter__(self):\n",
    "        self.conn = sqlite3.connect(db_init.database_path)\n",
    "        self.cursor = self.conn.cursor()\n",
    "        print(\"connect db\")\n",
    "        return self\n",
    "        \n",
    "    def __exit__(self, exc_type, exc_value, traceback):\n",
    "        self.cursor.close()\n",
    "        self.conn.close()\n",
    "        print(\"close db\")\n",
    "    \n",
    "    def exec(self, command:str, list:list):\n",
    "        self.cursor.execute(command, list)\n",
    "        self.conn.commit()\n",
    "        \n",
    "    def execm(self, command:str, list:list):\n",
    "        self.cursor.executemany(command, list)\n",
    "        self.conn.commit()\n",
    "    \n",
    "    def create_table(self, table_name: str):\n",
    "        statement =f'''CREATE TABLE IF NOT EXISTS {table_name}\n",
    "                  (id INTEGER PRIMARY KEY)'''\n",
    "        self.cursor.execute(statement)\n",
    "        self.conn.commit\n",
    "        print(f\"db.{table_name} users created\")\n",
    "        \n",
    "    def add_column(self, column_name:list):\n",
    "        \n",
    "    def insert(self, rownames: list, table_name, column):\n",
    "        statement = f\"INSERT INTO {table_name} ({column}) VALUES (?)\"\n",
    "        self.execm(statement, rownames)\n",
    "            \n",
    "    def check_available(self, request_info:dict) -> dict:\n",
    "        check_info = [(request_info['table'], request_info['date'])]\n",
    "        statement = f\"SELECT * FROM ? WHERE 'date' = ?\"\n",
    "        self.exec(statement, check_info)\n",
    "        rows = self.cursor.fetchall()\n",
    "        output = []\n",
    "        for row in rows:\n",
    "            print(row)\n",
    "            \n",
    "        return self\n",
    "        \n",
    "    def reserve(self, request_info:dict) -> dict:\n",
    "        for key in request_info['rt']:\n",
    "            reserve_info = [request_info['user'], request_info['date']]\n",
    "            statement = f\"UPDATE {request_info['table']} SET {request_info['rt'][key]} = ? WHERE date = ?\"\n",
    "            self.exec(statement, reserve_info)\n",
    "            self.conn.commit()"
   ]
  },
  {
   "cell_type": "code",
   "execution_count": 7,
   "metadata": {},
   "outputs": [],
   "source": [
    "request_info = {\n",
    "            'user': 'pxy',\n",
    "            'table': 'orbi',\n",
    "            'date': 231128,\n",
    "            'ct':{'t1':'t9_10',\n",
    "                   't2':'t10_11',\n",
    "                   },\n",
    "            'rt': {'t1':'t9_10',\n",
    "                   't2':'t10_11',\n",
    "                   }\n",
    "        }\n",
    "user_name = [('crs',)]\n",
    "date = [(231128,)]"
   ]
  },
  {
   "cell_type": "code",
   "execution_count": 10,
   "metadata": {},
   "outputs": [
    {
     "name": "stdout",
     "output_type": "stream",
     "text": [
      "connect db\n",
      "close db\n"
     ]
    }
   ],
   "source": [
    "\n",
    "with get_db() as test:\n",
    "    #test.insert(user_name, 'users', 'name')\n",
    "    #test.insert(date, 'orbi', 'date')\n",
    "    #test.reserve(request_info)\n",
    "    #test.create_table('cell')"
   ]
  }
 ],
 "metadata": {
  "kernelspec": {
   "display_name": "api",
   "language": "python",
   "name": "python3"
  },
  "language_info": {
   "codemirror_mode": {
    "name": "ipython",
    "version": 3
   },
   "file_extension": ".py",
   "mimetype": "text/x-python",
   "name": "python",
   "nbconvert_exporter": "python",
   "pygments_lexer": "ipython3",
   "version": "3.11.5"
  }
 },
 "nbformat": 4,
 "nbformat_minor": 2
}
