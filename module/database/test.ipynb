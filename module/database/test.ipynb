{
 "cells": [
  {
   "cell_type": "code",
   "execution_count": 1,
   "metadata": {},
   "outputs": [],
   "source": [
    "import json"
   ]
  },
  {
   "cell_type": "code",
   "execution_count": 2,
   "metadata": {},
   "outputs": [
    {
     "ename": "OSError",
     "evalue": "[Errno 22] Invalid argument: 'd:\\x07pps\\\\Files\\\\python\\\\Reserve\\\\database\\\\settings.json'",
     "output_type": "error",
     "traceback": [
      "\u001b[1;31m---------------------------------------------------------------------------\u001b[0m",
      "\u001b[1;31mOSError\u001b[0m                                   Traceback (most recent call last)",
      "\u001b[1;32md:\\apps\\Files\\python\\Reserve\\module\\database\\test.ipynb Cell 2\u001b[0m line \u001b[0;36m1\n\u001b[1;32m----> <a href='vscode-notebook-cell:/d%3A/apps/Files/python/Reserve/module/database/test.ipynb#W2sZmlsZQ%3D%3D?line=0'>1</a>\u001b[0m \u001b[39mwith\u001b[39;00m \u001b[39mopen\u001b[39;49m(\u001b[39m'\u001b[39;49m\u001b[39md:\u001b[39;49m\u001b[39m\\a\u001b[39;49;00m\u001b[39mpps\u001b[39;49m\u001b[39m\\\u001b[39;49m\u001b[39mFiles\u001b[39;49m\u001b[39m\\\u001b[39;49m\u001b[39mpython\u001b[39;49m\u001b[39m\\\u001b[39;49m\u001b[39mReserve\u001b[39;49m\u001b[39m\\\u001b[39;49m\u001b[39mdatabase\u001b[39;49m\u001b[39m\\\u001b[39;49m\u001b[39msettings.json\u001b[39;49m\u001b[39m'\u001b[39;49m, \u001b[39m'\u001b[39;49m\u001b[39mw\u001b[39;49m\u001b[39m'\u001b[39;49m) \u001b[39mas\u001b[39;00m f:\n\u001b[0;32m      <a href='vscode-notebook-cell:/d%3A/apps/Files/python/Reserve/module/database/test.ipynb#W2sZmlsZQ%3D%3D?line=1'>2</a>\u001b[0m     \u001b[39m#db_path = json.load(f)['db_path']\u001b[39;00m\n\u001b[0;32m      <a href='vscode-notebook-cell:/d%3A/apps/Files/python/Reserve/module/database/test.ipynb#W2sZmlsZQ%3D%3D?line=2'>3</a>\u001b[0m     f\u001b[39m.\u001b[39mwrite({\u001b[39m'\u001b[39m\u001b[39mdb_path\u001b[39m\u001b[39m'\u001b[39m: \u001b[39m'\u001b[39m\u001b[39md:\u001b[39m\u001b[39m\\a\u001b[39;00m\u001b[39mpps\u001b[39m\u001b[39m\\\u001b[39m\u001b[39mFiles\u001b[39m\u001b[39m\\\u001b[39m\u001b[39mpython\u001b[39m\u001b[39m\\\u001b[39m\u001b[39mReserve\u001b[39m\u001b[39m\\\u001b[39m\u001b[39mdatabase\u001b[39m\u001b[39m\\\u001b[39m\u001b[39msettings.json\u001b[39m\u001b[39m'\u001b[39m})\n",
      "File \u001b[1;32md:\\apps\\Files\\python\\venv\\reserve\\Lib\\site-packages\\IPython\\core\\interactiveshell.py:310\u001b[0m, in \u001b[0;36m_modified_open\u001b[1;34m(file, *args, **kwargs)\u001b[0m\n\u001b[0;32m    303\u001b[0m \u001b[39mif\u001b[39;00m file \u001b[39min\u001b[39;00m {\u001b[39m0\u001b[39m, \u001b[39m1\u001b[39m, \u001b[39m2\u001b[39m}:\n\u001b[0;32m    304\u001b[0m     \u001b[39mraise\u001b[39;00m \u001b[39mValueError\u001b[39;00m(\n\u001b[0;32m    305\u001b[0m         \u001b[39mf\u001b[39m\u001b[39m\"\u001b[39m\u001b[39mIPython won\u001b[39m\u001b[39m'\u001b[39m\u001b[39mt let you open fd=\u001b[39m\u001b[39m{\u001b[39;00mfile\u001b[39m}\u001b[39;00m\u001b[39m by default \u001b[39m\u001b[39m\"\u001b[39m\n\u001b[0;32m    306\u001b[0m         \u001b[39m\"\u001b[39m\u001b[39mas it is likely to crash IPython. If you know what you are doing, \u001b[39m\u001b[39m\"\u001b[39m\n\u001b[0;32m    307\u001b[0m         \u001b[39m\"\u001b[39m\u001b[39myou can use builtins\u001b[39m\u001b[39m'\u001b[39m\u001b[39m open.\u001b[39m\u001b[39m\"\u001b[39m\n\u001b[0;32m    308\u001b[0m     )\n\u001b[1;32m--> 310\u001b[0m \u001b[39mreturn\u001b[39;00m io_open(file, \u001b[39m*\u001b[39;49margs, \u001b[39m*\u001b[39;49m\u001b[39m*\u001b[39;49mkwargs)\n",
      "\u001b[1;31mOSError\u001b[0m: [Errno 22] Invalid argument: 'd:\\x07pps\\\\Files\\\\python\\\\Reserve\\\\database\\\\settings.json'"
     ]
    }
   ],
   "source": [
    "with open('d:\\apps\\Files\\python\\Reserve\\database\\settings.json', 'w') as f:\n",
    "    #db_path = json.load(f)['db_path']\n",
    "    f.write({'db_path': 'd:\\apps\\Files\\python\\Reserve\\database\\settings.json'})"
   ]
  }
 ],
 "metadata": {
  "kernelspec": {
   "display_name": "api",
   "language": "python",
   "name": "python3"
  },
  "language_info": {
   "codemirror_mode": {
    "name": "ipython",
    "version": 3
   },
   "file_extension": ".py",
   "mimetype": "text/x-python",
   "name": "python",
   "nbconvert_exporter": "python",
   "pygments_lexer": "ipython3",
   "version": "3.11.5"
  }
 },
 "nbformat": 4,
 "nbformat_minor": 2
}
