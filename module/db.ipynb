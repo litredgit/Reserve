{
 "cells": [
  {
   "cell_type": "code",
   "execution_count": 1,
   "metadata": {},
   "outputs": [],
   "source": [
    "import sqlite3\n",
    "from flask import Flask, request, jsonify"
   ]
  },
  {
   "cell_type": "code",
   "execution_count": 2,
   "metadata": {},
   "outputs": [],
   "source": [
    "def db_path()  -> str:\n",
    "    database_path = input(f\"select a path for database reserve.db\")\n",
    "    return database_path\n",
    "database_path = 'D:/Works/db/test.db'\n",
    "# database_path = db_path()"
   ]
  },
  {
   "cell_type": "code",
   "execution_count": 7,
   "metadata": {},
   "outputs": [],
   "source": [
    "class get_db:\n",
    "    def __init__(self) -> str:\n",
    "        self.table_name = \"\"\n",
    "\n",
    "    def __enter__(self):\n",
    "        self.conn = sqlite3.connect(database_path)\n",
    "        self.cursor = self.conn.cursor()\n",
    "        print(\"connect db\")\n",
    "        \n",
    "    def __exit__(self, exc_type, exc_value, traceback):\n",
    "        self.cursor.close()\n",
    "        self.conn.close()\n",
    "        print(\"close db\")\n",
    "    \n",
    "    def test1(self):\n",
    "        print(f'done')\n",
    "    \n",
    "    def exec(self, command:str):\n",
    "        self.cursor.execute(command)\n",
    "    \n",
    "    def check(self, request_info:dict) -> dict:\n",
    "        request_info = {\n",
    "            'user': 'crs',\n",
    "            'table': 'orbi',\n",
    "            'date': 231124,\n",
    "            'ct':{'t1':'t9_10',\n",
    "                   't2':'t10_11',\n",
    "                   },\n",
    "            'rt': {'t1':'t9_10',\n",
    "                   't2':'t10_11',\n",
    "                   }\n",
    "        }\n",
    "        statement = str(f\"SELECT * FROM {request_info['table']} WHERE /'date/' = {request_info['date']}\")\n",
    "        self.exec(statement)\n",
    "        rows = self.cursor.fetchall()\n",
    "        output = []\n",
    "        #for row in rows:\n",
    "            \n",
    "        \n",
    "    def reserve(self, request_info:dict) -> dict:\n",
    "        pass"
   ]
  },
  {
   "cell_type": "code",
   "execution_count": 6,
   "metadata": {},
   "outputs": [
    {
     "name": "stdout",
     "output_type": "stream",
     "text": [
      "connect db\n",
      "close db\n"
     ]
    },
    {
     "ename": "AttributeError",
     "evalue": "'NoneType' object has no attribute 'test1'",
     "output_type": "error",
     "traceback": [
      "\u001b[1;31m---------------------------------------------------------------------------\u001b[0m",
      "\u001b[1;31mAttributeError\u001b[0m                            Traceback (most recent call last)",
      "\u001b[1;32md:\\Works\\Git Demo\\Reserve\\module\\db.ipynb Cell 4\u001b[0m line \u001b[0;36m1\n\u001b[0;32m      <a href='vscode-notebook-cell:/d%3A/Works/Git%20Demo/Reserve/module/db.ipynb#W3sZmlsZQ%3D%3D?line=0'>1</a>\u001b[0m request_info \u001b[39m=\u001b[39m {\n\u001b[0;32m      <a href='vscode-notebook-cell:/d%3A/Works/Git%20Demo/Reserve/module/db.ipynb#W3sZmlsZQ%3D%3D?line=1'>2</a>\u001b[0m             \u001b[39m'\u001b[39m\u001b[39muser\u001b[39m\u001b[39m'\u001b[39m: \u001b[39m'\u001b[39m\u001b[39mcrs\u001b[39m\u001b[39m'\u001b[39m,\n\u001b[0;32m      <a href='vscode-notebook-cell:/d%3A/Works/Git%20Demo/Reserve/module/db.ipynb#W3sZmlsZQ%3D%3D?line=2'>3</a>\u001b[0m             \u001b[39m'\u001b[39m\u001b[39mtable\u001b[39m\u001b[39m'\u001b[39m: \u001b[39m'\u001b[39m\u001b[39morbi\u001b[39m\u001b[39m'\u001b[39m,\n\u001b[1;32m   (...)\u001b[0m\n\u001b[0;32m     <a href='vscode-notebook-cell:/d%3A/Works/Git%20Demo/Reserve/module/db.ipynb#W3sZmlsZQ%3D%3D?line=9'>10</a>\u001b[0m                    }\n\u001b[0;32m     <a href='vscode-notebook-cell:/d%3A/Works/Git%20Demo/Reserve/module/db.ipynb#W3sZmlsZQ%3D%3D?line=10'>11</a>\u001b[0m         }\n\u001b[0;32m     <a href='vscode-notebook-cell:/d%3A/Works/Git%20Demo/Reserve/module/db.ipynb#W3sZmlsZQ%3D%3D?line=11'>12</a>\u001b[0m \u001b[39mwith\u001b[39;00m get_db() \u001b[39mas\u001b[39;00m test:\n\u001b[1;32m---> <a href='vscode-notebook-cell:/d%3A/Works/Git%20Demo/Reserve/module/db.ipynb#W3sZmlsZQ%3D%3D?line=12'>13</a>\u001b[0m     test\u001b[39m.\u001b[39;49mtest1(request_info)\n",
      "\u001b[1;31mAttributeError\u001b[0m: 'NoneType' object has no attribute 'test1'"
     ]
    }
   ],
   "source": [
    "request_info = {\n",
    "            'user': 'crs',\n",
    "            'table': 'orbi',\n",
    "            'date': 231124,\n",
    "            'ct':{'t1':'t9_10',\n",
    "                   't2':'t10_11',\n",
    "                   },\n",
    "            'rt': {'t1':'t9_10',\n",
    "                   't2':'t10_11',\n",
    "                   }\n",
    "        }\n",
    "with get_db() as test:\n",
    "    test.test1(request_info)\n",
    "test2 = get_db()\n",
    "test2.test1"
   ]
  },
  {
   "cell_type": "code",
   "execution_count": null,
   "metadata": {},
   "outputs": [],
   "source": [
    "test()"
   ]
  }
 ],
 "metadata": {
  "kernelspec": {
   "display_name": "api",
   "language": "python",
   "name": "python3"
  },
  "language_info": {
   "codemirror_mode": {
    "name": "ipython",
    "version": 3
   },
   "file_extension": ".py",
   "mimetype": "text/x-python",
   "name": "python",
   "nbconvert_exporter": "python",
   "pygments_lexer": "ipython3",
   "version": "3.11.5"
  }
 },
 "nbformat": 4,
 "nbformat_minor": 2
}
